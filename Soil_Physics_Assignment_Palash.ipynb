{
 "cells": [
  {
   "cell_type": "markdown",
   "id": "2af0f7a5",
   "metadata": {},
   "source": [
    "# Appendix- A Example"
   ]
  },
  {
   "cell_type": "markdown",
   "id": "aed5f4a7",
   "metadata": {},
   "source": [
    "# Solution by Hand:"
   ]
  },
  {
   "cell_type": "markdown",
   "id": "6e0703a3",
   "metadata": {},
   "source": [
    "(5 - 3j) * (4 + 2j)\n",
    "= 5 * 4 + 5 * 2j - 3j * 4 - 3j * 2j\n",
    "= 20 + 10j - 12j - 6 * j^2\n",
    "= 20 + 10j - 12j - 6 * (-1)\n",
    "= 20 + 10j - 12j + 6\n",
    "= 26 - 2j"
   ]
  },
  {
   "cell_type": "markdown",
   "id": "8022bc26",
   "metadata": {},
   "source": [
    "# By Python"
   ]
  },
  {
   "cell_type": "code",
   "execution_count": 21,
   "id": "d69ae7b4",
   "metadata": {},
   "outputs": [],
   "source": [
    "A = 5 - 3j"
   ]
  },
  {
   "cell_type": "code",
   "execution_count": 22,
   "id": "1f06f5e9",
   "metadata": {},
   "outputs": [],
   "source": [
    "B = 4 + 2j"
   ]
  },
  {
   "cell_type": "code",
   "execution_count": 23,
   "id": "94eaf715",
   "metadata": {},
   "outputs": [],
   "source": [
    "result = A * B"
   ]
  },
  {
   "cell_type": "code",
   "execution_count": 24,
   "id": "6c483af8",
   "metadata": {},
   "outputs": [
    {
     "name": "stdout",
     "output_type": "stream",
     "text": [
      "Result of The Complex Multiplication: (26-2j)\n"
     ]
    }
   ],
   "source": [
    "print(\"Result of The Complex Multiplication:\", result)"
   ]
  },
  {
   "cell_type": "code",
   "execution_count": null,
   "id": "ffe580fb",
   "metadata": {},
   "outputs": [],
   "source": []
  },
  {
   "cell_type": "code",
   "execution_count": 26,
   "id": "4dc231d3",
   "metadata": {},
   "outputs": [],
   "source": [
    "import matplotlib.pyplot as plt"
   ]
  },
  {
   "cell_type": "code",
   "execution_count": 27,
   "id": "f17ee8c1",
   "metadata": {},
   "outputs": [],
   "source": [
    "from csv import reader"
   ]
  },
  {
   "cell_type": "code",
   "execution_count": 30,
   "id": "cfd8d8a1",
   "metadata": {},
   "outputs": [
    {
     "ename": "ModuleNotFoundError",
     "evalue": "No module named 'piplite'",
     "output_type": "error",
     "traceback": [
      "\u001b[1;31m---------------------------------------------------------------------------\u001b[0m",
      "\u001b[1;31mModuleNotFoundError\u001b[0m                       Traceback (most recent call last)",
      "Cell \u001b[1;32mIn[30], line 1\u001b[0m\n\u001b[1;32m----> 1\u001b[0m \u001b[38;5;28;01mimport\u001b[39;00m \u001b[38;5;21;01mpiplite\u001b[39;00m\n",
      "\u001b[1;31mModuleNotFoundError\u001b[0m: No module named 'piplite'"
     ]
    }
   ],
   "source": [
    "import piplite \n",
    "\n"
   ]
  },
  {
   "cell_type": "code",
   "execution_count": null,
   "id": "b3b819d1",
   "metadata": {},
   "outputs": [],
   "source": [
    "%run PSP_averageTair.p"
   ]
  }
 ],
 "metadata": {
  "kernelspec": {
   "display_name": "Python 3 (ipykernel)",
   "language": "python",
   "name": "python3"
  },
  "language_info": {
   "codemirror_mode": {
    "name": "ipython",
    "version": 3
   },
   "file_extension": ".py",
   "mimetype": "text/x-python",
   "name": "python",
   "nbconvert_exporter": "python",
   "pygments_lexer": "ipython3",
   "version": "3.11.4"
  }
 },
 "nbformat": 4,
 "nbformat_minor": 5
}
