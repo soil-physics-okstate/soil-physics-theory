{
  "metadata": {
    "kernelspec": {
      "name": "python",
      "display_name": "Python (Pyodide)",
      "language": "python"
    },
    "language_info": {
      "codemirror_mode": {
        "name": "python",
        "version": 3
      },
      "file_extension": ".py",
      "mimetype": "text/x-python",
      "name": "python",
      "nbconvert_exporter": "python",
      "pygments_lexer": "ipython3",
      "version": "3.8"
    }
  },
  "nbformat_minor": 4,
  "nbformat": 4,
  "cells": [
    {
      "cell_type": "markdown",
      "source": "# Compute by hand the complex multiplication (5 – 3j) ∗ (4 + 2j). Reform the same operation using python",
      "metadata": {}
    },
    {
      "cell_type": "markdown",
      "source": "## Computation by hand",
      "metadata": {}
    },
    {
      "cell_type": "markdown",
      "source": "(5 - 3j) * (4 + 2j)\n\n= 5 * 4 + 5 * 2j - 3j * 4 - 3j * 2j   \n\n= 20 + 10j - 12j - 6j^2   \n\n= 20 + (10j - 12j) - 6j^2   \n\n= 20 - 2j - 6j^2   \n\n= 20 - 2j + 6   (Since j^2 = -1)\n\n= 26 - 2j",
      "metadata": {}
    },
    {
      "cell_type": "markdown",
      "source": "## Computation by python",
      "metadata": {}
    },
    {
      "cell_type": "code",
      "source": "z1 = 5 - 3j",
      "metadata": {
        "trusted": true
      },
      "outputs": [],
      "execution_count": 2
    },
    {
      "cell_type": "code",
      "source": "z2 = 4 + 2j",
      "metadata": {
        "trusted": true
      },
      "outputs": [],
      "execution_count": 3
    },
    {
      "cell_type": "code",
      "source": "Result = z1 * z2",
      "metadata": {
        "trusted": true
      },
      "outputs": [],
      "execution_count": 4
    },
    {
      "cell_type": "code",
      "source": "print (Result)",
      "metadata": {
        "trusted": true
      },
      "outputs": [
        {
          "name": "stdout",
          "text": "(26-2j)\n",
          "output_type": "stream"
        }
      ],
      "execution_count": 5
    },
    {
      "cell_type": "code",
      "source": "",
      "metadata": {
        "trusted": true
      },
      "outputs": [],
      "execution_count": null
    }
  ]
}