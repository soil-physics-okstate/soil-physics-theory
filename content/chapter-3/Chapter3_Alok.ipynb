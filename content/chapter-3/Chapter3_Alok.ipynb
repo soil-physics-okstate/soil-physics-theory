{
  "metadata": {
    "kernelspec": {
      "name": "python",
      "display_name": "Python (Pyodide)",
      "language": "python"
    },
    "language_info": {
      "codemirror_mode": {
        "name": "python",
        "version": 3
      },
      "file_extension": ".py",
      "mimetype": "text/x-python",
      "name": "python",
      "nbconvert_exporter": "python",
      "pygments_lexer": "ipython3",
      "version": "3.8"
    }
  },
  "nbformat_minor": 4,
  "nbformat": 4,
  "cells": [
    {
      "cell_type": "markdown",
      "source": "# Assignment 1",
      "metadata": {}
    },
    {
      "cell_type": "markdown",
      "source": "If we begin at equ 3.7 we can plug in the area of a sphere, $4 \\pi x^2$ as $A(x)$. Then, pulling the constant of $1/4 \\pi$ out of the integral we get intermediate 2. Then, applying the inetegral, we can evaluate from $x_1$ to $x_2$, after reaching common denominators in intermediate three completing the denominator. Then by using the negetive exponent rule to adjust the $4 \\pi * x_1 *x_2 $ we get the final equation\n\nequ (3.7): $\\dfrac{D_g} {\\displaystyle \\int_{x_1}^{x_2} {\\dfrac{\\mathrm{d}x}{A(x)}}} $\n\nintermediate 1: $ \\dfrac{D_g}{\\displaystyle \\int_{x_1}^{x_2} \\dfrac{\\mathrm{d}x}{4 \\pi x^2}} $\n\nintermediate 2: $ \\dfrac{D_g}{\\dfrac{1}{4\\pi} \\displaystyle \\int_{x_1}^{x_2} \\dfrac{\\mathrm{d}x}{x^2}} $\n\nint applied: $\\dfrac{D_g}{\\dfrac{1}{4\\pi} * -(x^{-2}+1)}$\n\nintermediate 3: $ \\dfrac{D_g} {\\dfrac{1}{4\\pi} * (\\dfrac{x_2}{x_1*x_2} - \\dfrac{x_1}{x_1*x_2})} $\n\nfinal result (eq. 3.10): $\\dfrac{4 * \\pi * D_g * x_1 *x_2}{x_2-x_1} $\n\n\nFor the second equation (eq 3.11) we must first apply $A(x)$ to be $2 \\pi x$. then as last time we can remove the $1/2\\pi$ from the integration to get int 2. then integrating with respect that the integral of $dx/x = \\ln{|x|}$ we get int 3. by the law of logs we then get the final result\n\n\n\nequ (3.7): $\\dfrac{D_g}{\\displaystyle \\int_{x_1}^{x_2} \\dfrac{\\mathrm{d}x}{A(x)}} $\n\nintermediate 1: $ \\dfrac{D_g}{\\displaystyle \\int_{x_1}^{x_2} \\dfrac{\\mathrm{d}x}{2 \\pi  x}} $\n\nintermediate 2: $ \\dfrac{D_g}{\\dfrac{1}{2\\pi}\\displaystyle \\int_{x_1}^{x_2} \\dfrac{\\mathrm{d}x}{x}} $\n\nintermediate 3: $ \\dfrac{D_g}{\\dfrac{1}{2\\pi}*(\\ln{x_2}-\\ln{x_1})}  $\n\nfinal result: $ \\dfrac{2*\\pi*D_g}{\\ln{(x_2/x_1)}} $",
      "metadata": {}
    },
    {
      "cell_type": "markdown",
      "source": "# Assignment 2",
      "metadata": {}
    },
    {
      "cell_type": "code",
      "source": "from math import exp\nfrom PSP_ThomasAlgorithm import ThomasBoundaryCondition\nimport PSP_grid as grid\nimport matplotlib.pyplot as plt\nimport numpy as np",
      "metadata": {
        "trusted": true
      },
      "outputs": [],
      "execution_count": 4
    },
    {
      "cell_type": "code",
      "source": "def testing(waterContent,bulkDensity,oxygenDiff):\n    R = 8.3143                     \n    n = 20                        \n    totalDepth = 0.5                          \n    particleDensity = 2650.         \n    waterContent = 0.2                 \n    respRate = -0.001                        \n    temperature = 25.             \n    atmPressure = 101.3           \n    boundaryLayerCond = 0.01     \n    \n    # O2 concentration in air [g/m^3]\n    boundaryOxygenConc = (0.21 * atmPressure * 1000. * 32. / \n                          (R * (temperature + 273.15))) \n    porosity = 1. - bulkDensity / particleDensity\n    gasPorosity = porosity - waterContent\n    \n    #  binary diffusion coefficient [m2/s]\n    binaryDiffCoeff = (oxygenDiff * (101.3 / atmPressure) \n                * ((temperature + 273.15) / 273.15)**1.75)\n    \n    bg = 0.9           \n    mg = 2.3           \n    dg = binaryDiffCoeff * bg * gasPorosity**mg\n    \n    z, co = gasSolver(boundaryLayerCond, boundaryOxygenConc, \n                      dg, respRate, totalDepth, n)\n      \n    print (\"node   depth [m]   Co [g\\m^3]\")\n    for i in range(n + 2):\n        print (\"%3d    %6.2f      %.2f\" %(i, z[i], co[i]))\n    \n    # plot results\n    fig = plt.figure(figsize=(10,8))\n    for i in range(n+1):\n        plt.plot(co[i], -z[i], 'ko')\n        \n    plt.xlabel('Concentration [g m$^{-3}$]',fontsize=20,labelpad=8)\n    plt.ylabel('Depth [m]',fontsize=20,labelpad=8)\n    plt.tick_params(axis='both', which='major', labelsize=20,pad=8)\n    plt.tick_params(axis='both', which='minor', labelsize=20,pad=8)\n    plt.show()\n",
      "metadata": {
        "trusted": true
      },
      "outputs": [],
      "execution_count": 5
    },
    {
      "cell_type": "code",
      "source": "waterContent = 0.15\nbulkDensity = 1100.\noxygenDiff = 1.39e-5 #CO2\nprint(waterContent,bulkDensity,oxygenDiff)",
      "metadata": {
        "trusted": true
      },
      "outputs": [],
      "execution_count": null
    },
    {
      "cell_type": "code",
      "source": "",
      "metadata": {
        "trusted": true
      },
      "outputs": [],
      "execution_count": null
    }
  ]
}