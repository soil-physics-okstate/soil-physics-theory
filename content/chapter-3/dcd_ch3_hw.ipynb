{
  "metadata": {
    "kernelspec": {
      "name": "python",
      "display_name": "Python (Pyodide)",
      "language": "python"
    },
    "language_info": {
      "codemirror_mode": {
        "name": "python",
        "version": 3
      },
      "file_extension": ".py",
      "mimetype": "text/x-python",
      "name": "python",
      "nbconvert_exporter": "python",
      "pygments_lexer": "ipython3",
      "version": "3.8"
    }
  },
  "nbformat_minor": 4,
  "nbformat": 4,
  "cells": [
    {
      "cell_type": "markdown",
      "source": "# dcd_ch3_hw",
      "metadata": {}
    },
    {
      "cell_type": "markdown",
      "source": "## Homework for Chapter 3",
      "metadata": {}
    },
    {
      "cell_type": "markdown",
      "source": "If we begin at equ 3.7 we can plug in the area of a sphere, $4 \\pi x^2$ as $A(x)$. Then, pulling the constant of $1/4 \\pi$ out of the integral we get intermediate 2. Then, applying the inetegral, we can evaluate from $x_1$ to $x_2$, after reaching common denominators in intermediate three completing the denominator. Then by using the negetive exponent rule to adjust the $x_1 *x_2 $$ we get the final equation\n\nequ (3.7): $$ \\dfrac{D_g}{\\int_{x_1}^{x_2} \\dfrac{\\mathrm{d}x}{A(x)}} $$\n\nintermediate 1: $$ \\dfrac{D_g}{\\int_{x_1}^{x_2} \\dfrac{\\mathrm{d}x}{4 \\pi x^2}} $$\n\nintermediate 2: $$ \\dfrac{D_g}{\\dfrac{1}{4\\pi}\\int_{x_1}^{x_2} \\dfrac{\\mathrm{d}x}{x^2}} $$\n\nint applied: $$ \\dfrac{1}{4\\pi} * -(x^{-2}+1)$$\n\nintermediate 3: $$ \\dfrac{1}{4\\pi} * (\\dfrac{x_2}{x_1*x_2} - \\dfrac{x_1}{x_1*x_2}) $$\n\nfinal result (eq. 3.10): $$\\dfrac{4 * \\pi * D_g * x_1 *x_2}{x_2-x_1} $$\n\n\nFor the second equation (eq 3.11) we must first ",
      "metadata": {}
    },
    {
      "cell_type": "code",
      "source": "",
      "metadata": {
        "trusted": true
      },
      "outputs": [],
      "execution_count": null
    }
  ]
}