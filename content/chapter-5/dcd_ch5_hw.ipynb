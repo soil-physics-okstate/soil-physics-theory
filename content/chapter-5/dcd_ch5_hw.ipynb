{
  "metadata": {
    "kernelspec": {
      "name": "python",
      "display_name": "Python (Pyodide)",
      "language": "python"
    },
    "language_info": {
      "codemirror_mode": {
        "name": "python",
        "version": 3
      },
      "file_extension": ".py",
      "mimetype": "text/x-python",
      "name": "python",
      "nbconvert_exporter": "python",
      "pygments_lexer": "ipython3",
      "version": "3.8"
    }
  },
  "nbformat_minor": 4,
  "nbformat": 4,
  "cells": [
    {
      "cell_type": "markdown",
      "source": "dcd_ch5_hw",
      "metadata": {}
    },
    {
      "cell_type": "markdown",
      "source": "# Chapter 5 Homework",
      "metadata": {}
    },
    {
      "cell_type": "code",
      "source": "from math import exp\nimport matplotlib.pyplot as plt\nimport numpy as np\nimport pandas as pd\nfrom PSP_travelTime import *\nfrom PSP_readDataFile import readDataFile\nfrom PSP_Marquardt import *\nfrom PSP_TTwaterContent import *",
      "metadata": {
        "trusted": true
      },
      "outputs": [],
      "execution_count": 103
    },
    {
      "cell_type": "code",
      "source": "c = 299792458                      \nNODATA = -9999\nMAXDELTAINDEX = 8\nSX = 0\nDX = 1\n\nclass CLine:\n    a = NODATA\n    b = NODATA\n    \nclass CPoint:\n    x = NODATA\n    y = NODATA\n   \nline1 = CLine()\nline2 = CLine()\nlastFlatLine = CLine() \n\np0 = CPoint()\np1 = CPoint()\np2 = CPoint()\np3 = CPoint()\n\ntimeVector = []             \nreflecCoeff = [] \ndy =[]\ndy2 =[]\n\ndeltaSpace = 0             \ndeltaTime = 0               \n",
      "metadata": {
        "trusted": true
      },
      "outputs": [],
      "execution_count": 104
    },
    {
      "cell_type": "markdown",
      "source": "## Problem 1\n**Use the program PSP_travelTimeAnalysis to compute the water content\r\nof the soil sample dataTDRSoil.dat. Change the values of bulk density, temperature\r\nand solid-phase dielectric permittivity to investigate the effects on the\r\ncomputed water content by using the dielectric mixing model.**",
      "metadata": {}
    },
    {
      "cell_type": "code",
      "source": "rawdata = readDataFile('dataTDRSoil.dat',0,'\\t',0)\n\nwv_avg = rawdata[0][0] #wave average\nVp = rawdata[0][1] #wave velocity\nnrPoints = int(rawdata[0][2][0]) #numberof output points\ncbl = rawdata[0][3] #cable length\nwindowWidth = rawdata[0][4] #window length\nprobeHandle = rawdata[0][5] #probe length\nproff = rawdata[0][6] #probe offset\nmult = rawdata[0][7] #multiplier\ny = rawdata[0][8:]",
      "metadata": {
        "trusted": true
      },
      "outputs": [],
      "execution_count": 115
    },
    {
      "cell_type": "code",
      "source": "bulkDensity = 1350\nfirst = 0\nlast = len(y)\nindex1 = indexOfMaxVector(y, first, last)\nindex2 = indexOfMinVector(y, first, last)\nav = avg(y, index1, index2)\nnoV = normalizeVector(y)\nbulkPermittivity =getBulkPermittivity(cbl+probeHandle, y, Vp)\ntheta = getWaterContentMalicki(bulkPermittivity[2], bulkDensity)\nprint(theta)",
      "metadata": {
        "trusted": true
      },
      "outputs": [
        {
          "name": "stdout",
          "text": "13722.971147165696\n",
          "output_type": "stream"
        }
      ],
      "execution_count": 125
    },
    {
      "cell_type": "markdown",
      "source": "## Problem 2\n**If the temperature of the soil liquid phase increases, does the bulk dielectric permittivity \nincrease or decrease? What effect would this change have on soil wate \r\ncontent computation?**",
      "metadata": {}
    },
    {
      "cell_type": "code",
      "source": "print(getLiquidPermittivity(10))\nprint(getLiquidPermittivity(40))\nprint(getLiquidPermittivity(90))",
      "metadata": {
        "trusted": true
      },
      "outputs": [
        {
          "name": "stdout",
          "text": "83.9345199\n73.1454801\n55.16374710000001\n",
          "output_type": "stream"
        }
      ],
      "execution_count": 123
    },
    {
      "cell_type": "markdown",
      "source": "As temperature increases the dielectric permittivity decreases. Considering that more heat means more particle interation, and thus less ability to resist discharge of energy through electrical field.",
      "metadata": {}
    },
    {
      "cell_type": "markdown",
      "source": "## Problem 3\n**Compute the matric water potential for water in a saturated pore 10 μm in diameter,\r\nat 20 ◦C. The surface tension and liquid density at this temperature are\r\n72.75 × 10–3 Nm–1 and 1027.8 kgm–3, respectively.**",
      "metadata": {}
    },
    {
      "cell_type": "code",
      "source": "",
      "metadata": {
        "trusted": true
      },
      "outputs": [],
      "execution_count": null
    },
    {
      "cell_type": "markdown",
      "source": "## Problem 4\n**By using the integration presented in the program\r\nPSP_columnWaterContent.py, compute the total amount of soil water\r\nin a clay soil for a profile that is 1m deep. Use the parameters presented in\r\nTable 5.4**",
      "metadata": {}
    },
    {
      "cell_type": "code",
      "source": "",
      "metadata": {
        "trusted": true
      },
      "outputs": [],
      "execution_count": null
    },
    {
      "cell_type": "markdown",
      "source": "## Problem 5\n**By using the two files sand.txt and silt_loam.text, fit Campbell’s equation,\r\nvan Genuchten’s equation with no parameter restriction and van Genucthen’s\r\nequation with the restriction m = 1 – 1/n. Print the parameters and discuss the differences\r\nobtained by using the different models. Also discuss the differences in the\r\nestimated parameters for the two soils.**",
      "metadata": {}
    },
    {
      "cell_type": "code",
      "source": "",
      "metadata": {
        "trusted": true
      },
      "outputs": [],
      "execution_count": null
    },
    {
      "cell_type": "markdown",
      "source": "## Problem 6\n**Compute the water content at field capacity (assume ψFC = –33 J kg–1), and\r\npermanent wilting point (assume ψPWP = –1500 J kg–1) using van Genuchten’s\r\nequation for a soil having the following parameters: α = 0.15, n = 1.35, θr = 0.01\r\nand θs = 0.46. The units of water potential are J kg–1. Plant available water is assumed\r\nto be the difference between these values. Compute the plant available water\r\nof the soil.**",
      "metadata": {}
    },
    {
      "cell_type": "code",
      "source": "",
      "metadata": {
        "trusted": true
      },
      "outputs": [],
      "execution_count": null
    },
    {
      "cell_type": "markdown",
      "source": "## Problem 7\n**Derive the capacity for Campbell’s and van Genuchten’s equations by computing\r\nthe derivatives of the two functions with respect t psi**\n.",
      "metadata": {}
    },
    {
      "cell_type": "code",
      "source": "",
      "metadata": {
        "trusted": true
      },
      "outputs": [],
      "execution_count": null
    }
  ]
}