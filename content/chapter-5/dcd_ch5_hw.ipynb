{
  "metadata": {
    "kernelspec": {
      "name": "python",
      "display_name": "Python (Pyodide)",
      "language": "python"
    },
    "language_info": {
      "codemirror_mode": {
        "name": "python",
        "version": 3
      },
      "file_extension": ".py",
      "mimetype": "text/x-python",
      "name": "python",
      "nbconvert_exporter": "python",
      "pygments_lexer": "ipython3",
      "version": "3.8"
    }
  },
  "nbformat_minor": 4,
  "nbformat": 4,
  "cells": [
    {
      "cell_type": "markdown",
      "source": "dcd_ch5_hw",
      "metadata": {}
    },
    {
      "cell_type": "markdown",
      "source": "# Chapter 5 Homework",
      "metadata": {}
    },
    {
      "cell_type": "markdown",
      "source": "## Problem 1\n**change Db temp and dialectric perm in travel time analysis**",
      "metadata": {}
    },
    {
      "cell_type": "code",
      "source": "",
      "metadata": {
        "trusted": true
      },
      "outputs": [],
      "execution_count": null
    },
    {
      "cell_type": "code",
      "source": "",
      "metadata": {
        "trusted": true
      },
      "outputs": [],
      "execution_count": null
    },
    {
      "cell_type": "markdown",
      "source": "## Problem 2\n**If the temperature of the soil liquid phase increases, does the bulk dielectric permittivity \nincrease or decrease? What effect would this change have on soil wate \r\ncontent computation?**",
      "metadata": {}
    },
    {
      "cell_type": "code",
      "source": "",
      "metadata": {
        "trusted": true
      },
      "outputs": [],
      "execution_count": null
    },
    {
      "cell_type": "markdown",
      "source": "## Problem 3\n**Compute the matric water potential for water in a saturated pore 10 μm in diameter,\r\nat 20 ◦C. The surface tension and liquid density at this temperature are\r\n72.75 × 10–3 Nm–1 and 1027.8 kgm–3, respectively.**",
      "metadata": {}
    },
    {
      "cell_type": "code",
      "source": "",
      "metadata": {
        "trusted": true
      },
      "outputs": [],
      "execution_count": null
    },
    {
      "cell_type": "markdown",
      "source": "## Problem 4\n**By using the integration presented in the program\r\nPSP_columnWaterContent.py, compute the total amount of soil water\r\nin a clay soil for a profile that is 1m deep. Use the parameters presented in\r\nTable 5.4**",
      "metadata": {}
    },
    {
      "cell_type": "code",
      "source": "",
      "metadata": {
        "trusted": true
      },
      "outputs": [],
      "execution_count": null
    },
    {
      "cell_type": "markdown",
      "source": "## Problem 5\n**By using the two files sand.txt and silt_loam.text, fit Campbell’s equation,\r\nvan Genuchten’s equation with no parameter restriction and van Genucthen’s\r\nequation with the restriction m = 1 – 1/n. Print the parameters and discuss the differences\r\nobtained by using the different models. Also discuss the differences in the\r\nestimated parameters for the two soils.**",
      "metadata": {}
    },
    {
      "cell_type": "code",
      "source": "",
      "metadata": {
        "trusted": true
      },
      "outputs": [],
      "execution_count": null
    },
    {
      "cell_type": "markdown",
      "source": "## Problem 6\n**Compute the water content at field capacity (assume ψFC = –33 J kg–1), and\r\npermanent wilting point (assume ψPWP = –1500 J kg–1) using van Genuchten’s\r\nequation for a soil having the following parameters: α = 0.15, n = 1.35, θr = 0.01\r\nand θs = 0.46. The units of water potential are J kg–1. Plant available water is assumed\r\nto be the difference between these values. Compute the plant available water\r\nof the soil.**",
      "metadata": {}
    },
    {
      "cell_type": "code",
      "source": "",
      "metadata": {
        "trusted": true
      },
      "outputs": [],
      "execution_count": null
    },
    {
      "cell_type": "markdown",
      "source": "## Problem 7\n**Derive the capacity for Campbell’s and van Genuchten’s equations by computing\r\nthe derivatives of the two functions with respect t psi**\n.",
      "metadata": {}
    },
    {
      "cell_type": "code",
      "source": "",
      "metadata": {
        "trusted": true
      },
      "outputs": [],
      "execution_count": null
    }
  ]
}