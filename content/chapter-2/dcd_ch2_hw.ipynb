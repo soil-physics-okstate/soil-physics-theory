{
  "metadata": {
    "kernelspec": {
      "name": "python",
      "display_name": "Python (Pyodide)",
      "language": "python"
    },
    "language_info": {
      "codemirror_mode": {
        "name": "python",
        "version": 3
      },
      "file_extension": ".py",
      "mimetype": "text/x-python",
      "name": "python",
      "nbconvert_exporter": "python",
      "pygments_lexer": "ipython3",
      "version": "3.8"
    }
  },
  "nbformat_minor": 4,
  "nbformat": 4,
  "cells": [
    {
      "cell_type": "markdown",
      "source": "## dcd_ch2_hw\n\nThis code was developed to implement the practices and codes taught in the chapter 2 assignment of \"Soil Physics with Python\"",
      "metadata": {}
    },
    {
      "cell_type": "code",
      "source": "import numpy as np\nimport matplotlib\nimport main\nfrom __future__ import print_function, division\nimport math\nfrom PIL import Image\nimport matplotlib.pyplot as plt\n",
      "metadata": {
        "trusted": true
      },
      "outputs": [],
      "execution_count": null
    },
    {
      "cell_type": "markdown",
      "source": "## Problem 1: \nin answer to problem 1 there were larger changes in the number of pores per size when increasing the threshold. As the thrshold became closer to one the number of larger pores began to diminish.\n\n## Code issues or questions: \neven when changing the color code the image remained black and white for reasons I am wholly sure of but that might be related to juypterlite.",
      "metadata": {}
    },
    {
      "cell_type": "code",
      "source": "picture = Image.open(\"soil_image.jpg\")\ncolorGrid = picture.load()\n[width, height] = picture.size\nnrPixels = width * height\nprint (\"width =\", width)\nprint (\"height =\", height)\nmyColor = (255,0,0) \n#myColor = (0,0,255) #blue  \nnrPores, colorGrid = main.identifyPores(colorGrid, width, height, myColor)\nporesPercentage = float(nrPores) / float(nrPixels) * 100.\nprint (\"% of pores =\", format(poresPercentage, '.3f'))\npicture.show()\npicture.save('coloured pore space','png')\nplt.xlabel('Box size',fontsize=16,labelpad=3)\nplt.ylabel('N',fontsize=16,labelpad=3) \nplt.ion()\nsize = 200          #pixels\nthreshold = 0.9\nwhile (size >= 1):\n    nrOccupiedBoxes = main.boxCounting(colorGrid, width, \n                                      height, size, threshold, myColor)\n    if (nrOccupiedBoxes > 0):\n        plt.loglog(size, nrOccupiedBoxes, 'ko')\n        plt.draw()\n    size = int(size / 2)\nplt.ioff()\nplt.show()\n    ",
      "metadata": {
        "trusted": true
      },
      "outputs": [
        {
          "ename": "<class 'NameError'>",
          "evalue": "name 'Image' is not defined",
          "traceback": [
            "\u001b[0;31m---------------------------------------------------------------------------\u001b[0m",
            "\u001b[0;31mNameError\u001b[0m                                 Traceback (most recent call last)",
            "Cell \u001b[0;32mIn[1], line 1\u001b[0m\n\u001b[0;32m----> 1\u001b[0m picture \u001b[38;5;241m=\u001b[39m \u001b[43mImage\u001b[49m\u001b[38;5;241m.\u001b[39mopen(\u001b[38;5;124m\"\u001b[39m\u001b[38;5;124msoil_image.jpg\u001b[39m\u001b[38;5;124m\"\u001b[39m)\n\u001b[1;32m      2\u001b[0m colorGrid \u001b[38;5;241m=\u001b[39m picture\u001b[38;5;241m.\u001b[39mload()\n\u001b[1;32m      3\u001b[0m [width, height] \u001b[38;5;241m=\u001b[39m picture\u001b[38;5;241m.\u001b[39msize\n",
            "\u001b[0;31mNameError\u001b[0m: name 'Image' is not defined"
          ],
          "output_type": "error"
        }
      ],
      "execution_count": 1
    },
    {
      "cell_type": "code",
      "source": "main.boxCounting(colorGrid, width, height, size, 0.1, myColor)",
      "metadata": {
        "trusted": true
      },
      "outputs": [],
      "execution_count": null
    },
    {
      "cell_type": "markdown",
      "source": "## Problem 2 and 3:\nanswers to problem 2 can be found printed below the cell with no issues understanding number 2's code",
      "metadata": {}
    },
    {
      "cell_type": "code",
      "source": "diam = 8\nheig = 6\nringmass = 45\nwetPlusRing = 445\ndryPlusRing = 375\nps = 2.65\nwatDensity = 1\nwetmass = wetPlusRing-ringmass\ndrymass = dryPlusRing-ringmass\nmassWater = wetmass-drymass\nvol = (diam/2)**2*3.1416*heig\n#print(vol)\n\nw = massWater/drymass\npb= drymass/vol\ntheta = w*(pb/watDensity)\nporosity = 1-(pb/ps)\n\nprint (\"gravemetric water content = \", format(w, '.3f'))\nprint (\"bulk density = \", format(pb, '.3f'))\nprint (\"volumetric water content = \", format(theta, '.3f'))\nprint (\"porosity = \", format(porosity, '.3f'))",
      "metadata": {
        "trusted": true
      },
      "outputs": [],
      "execution_count": null
    },
    {
      "cell_type": "code",
      "source": "",
      "metadata": {
        "trusted": true
      },
      "outputs": [],
      "execution_count": null
    }
  ]
}