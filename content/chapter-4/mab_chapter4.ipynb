{
  "metadata": {
    "kernelspec": {
      "name": "python",
      "display_name": "Python (Pyodide)",
      "language": "python"
    },
    "language_info": {
      "codemirror_mode": {
        "name": "python",
        "version": 3
      },
      "file_extension": ".py",
      "mimetype": "text/x-python",
      "name": "python",
      "nbconvert_exporter": "python",
      "pygments_lexer": "ipython3",
      "version": "3.8"
    }
  },
  "nbformat_minor": 4,
  "nbformat": 4,
  "cells": [
    {
      "cell_type": "code",
      "source": "##Chapter_4.1\n#Investigating the temperature dependence of soil thermal conductivity\n\nimport piplite\nawait piplite.install('matplotlib')\nfrom math import exp\nimport numpy as np\nfrom PSP_thermalCond import *\n\nbulkDensity=1300\nwaterContent=.3\nclay=.4\ntemperature = range(40)\nprint(temperature)\n",
      "metadata": {
        "trusted": true
      },
      "outputs": [
        {
          "name": "stdout",
          "text": "range(0, 40)\n",
          "output_type": "stream"
        }
      ],
      "execution_count": 28
    },
    {
      "cell_type": "code",
      "source": "\nfor x in temperature:\n    K= thermalConductivity(bulkDensity, waterContent, clay, x)",
      "metadata": {
        "trusted": true
      },
      "outputs": [
        {
          "name": "stdout",
          "text": "0.7899493873500086\n0.7947160932009574\n0.799622623222025\n0.804670468269215\n0.8098608638242304\n0.8151947832520896\n0.8206729331173003\n0.8262957506779398\n0.8320634036484387\n0.8379757922904909\n0.8440325538580107\n0.8502330693871833\n0.85657647278732\n0.8630616621532693\n0.8696873131865556\n0.8764518945810772\n0.8833536852009646\n0.8903907928539058\n0.89756117444348\n0.9048626572694162\n0.9122929612355397\n0.9198497217217133\n0.9275305128783652\n0.9353328711100971\n0.9432543185280563\n0.9512923861688722\n0.9594446368003753\n0.9677086871604316\n0.9760822295043048\n0.9845630523672992\n0.9931490604821948\n1.0018382938245756\n1.0106289457927973\n1.0195193805624858\n1.0285081496876722\n1.0375940080514563\n1.0467759292983325\n1.0560531209077793\n1.0654250390944813\n1.0748914037447383\n",
          "output_type": "stream"
        }
      ],
      "execution_count": 30
    },
    {
      "cell_type": "code",
      "source": "##Chapter_4.2\n#Volumetric heat capacity (Ch) calculation\n\n##Based on the results, Ch of mineral soils ranges from 1.17 to 3.51 MJ/m3/K\n\n\n#Defining variables\n\n#Note: Ch is strongly dependent on volumetric water content \n\nDb_min = 1000     # assumed minimum bulk density value[Kg/m3]\n\nDb_max = 1800     # assumed maximum bulk density value [Kg/m3]\n\nDp = 2650         # assumed particle density value (from quartz) [Kg/m3]\n\nCs = 2.4e6        # volumetric_heat_capacity of solids [J/m3/K]\n                  # usual value for mineral soils (from Table 4.1 -p. 65)\n\nCl = 4.18e6       # volumetric_heat_capacity of liquid [J/m3/K]\n                  # from Table 4.1 -p. 65\n\n#Formulas\n\nVf_Dbmin = 1 - (Db_min/Dp)    # volume fraction of pores with minimum bulk density value (1000 kg/m3) [m3/m3]\nVf_Dbmax = 1 - (Db_max/Dp)    # volume fraction of pores with maximum bulk density value (1800 kg/m3) [m3/m3]\n\nSf_Dbmin = 1 - Vf_Dbmin       # volume_fraction of solids with minimum bulk density value (1000 kg/m3) [m3/m3]\nSf_Dbmax = 1 - Vf_Dbmax       # volume_fraction of solids with maximum bulk density value (1800 kg/m3) [m3/m3]\n\nLf_Dbminsat = Vf_Dbmin        # volume fraction of liquid with minimum bulk density value (1000 kg/m3) at saturation [m3/m3] \n\nLf_Dbmaxsat = Vf_Dbmax        # volume fraction of liquid with maximum bulk density value (1800 kg/m3) at saturation [m3/m3]\n\nLf_Dbmin10 = Vf_Dbmin * 0.1   # volume fraction of liquid with minimum bulk density value (1000 kg/m3) at 10% volumetric water content [m3/m3]\n\nLf_Dbmax10 = Vf_Dbmax * 0.1   # volume fraction of liquid with maximum bulk density value (1800 kg/m3) at 10% volumetric water content [m3/m3]\n\n\n#Calculation of Ch for each soil with different Db and volumetric water content values\n\nCh_Dbminsat = Cs * Sf_Dbmin + Cl * Lf_Dbminsat    # total volumetric_heat_capacity of soil with minimum bulk density value (1000 kg/m3) at saturation [J/m3/K]\nCh_Dbmaxsat = Cs * Sf_Dbmax + Cl * Lf_Dbmaxsat    # total volumetric_heat_capacity of soil with maximum bulk density value (1800 kg/m3) at saturation [J/m3/K]\nCh_Dbmin10 = Cs * Sf_Dbmin + Cl * Lf_Dbmin10      # total volumetric_heat_capacity of soil with minimum bulk density value (1000 kg/m3) at 10% volumetric water content [J/m3/K]\nCh_Dbmax10 = Cs * Sf_Dbmax + Cl * Lf_Dbmax10      # total volumetric_heat_capacity of soil with maximum bulk density value (1800 kg/m3) at 10% volumetric water content [J/m3/K]\n\nprint ('%E' % (Ch_Dbminsat), ' = maximum Ch value')\nprint ('%E' % (Ch_Dbmaxsat))\nprint ('%E' % (Ch_Dbmin10), ' = minimum Ch value')\nprint ('%E' % (Ch_Dbmax10))",
      "metadata": {
        "trusted": true
      },
      "outputs": [
        {
          "name": "stdout",
          "text": "3.508302E+06  = maximum Ch value\n2.970943E+06\n1.165925E+06  = minimum Ch value\n1.764264E+06\n",
          "output_type": "stream"
        }
      ],
      "execution_count": 21
    },
    {
      "cell_type": "code",
      "source": "##Chapter_4.3\n\nimport piplite\nawait piplite.install('matplotlib')\n%run main.py",
      "metadata": {
        "trusted": true
      },
      "outputs": [
        {
          "ename": "<class 'FileNotFoundError'>",
          "evalue": "[Errno 44] No such file or directory: 'soilTemperature.txt'",
          "traceback": [
            "\u001b[0;31m---------------------------------------------------------------------------\u001b[0m",
            "\u001b[0;31mFileNotFoundError\u001b[0m                         Traceback (most recent call last)",
            "File \u001b[0;32m/drive/chapter-4/main.py:46\u001b[0m\n\u001b[1;32m     44\u001b[0m         \u001b[38;5;28;01mif\u001b[39;00m (t \u001b[38;5;241m==\u001b[39m \u001b[38;5;241m3\u001b[39m): plt\u001b[38;5;241m.\u001b[39mplot(waterContent, thermalConductivity,\u001b[38;5;124m'\u001b[39m\u001b[38;5;124m:k\u001b[39m\u001b[38;5;124m'\u001b[39m)\n\u001b[1;32m     45\u001b[0m     plt\u001b[38;5;241m.\u001b[39mshow() \n\u001b[0;32m---> 46\u001b[0m \u001b[43mmain\u001b[49m\u001b[43m(\u001b[49m\u001b[43m)\u001b[49m\n",
            "File \u001b[0;32m/drive/chapter-4/main.py:6\u001b[0m, in \u001b[0;36mmain\u001b[0;34m()\u001b[0m\n\u001b[1;32m      5\u001b[0m \u001b[38;5;28;01mdef\u001b[39;00m \u001b[38;5;21mmain\u001b[39m():\n\u001b[0;32m----> 6\u001b[0m     A, isFileOk \u001b[38;5;241m=\u001b[39m \u001b[43mreadDataFile\u001b[49m\u001b[43m(\u001b[49m\u001b[38;5;124;43m\"\u001b[39;49m\u001b[38;5;124;43msoilTemperature.txt\u001b[39;49m\u001b[38;5;124;43m\"\u001b[39;49m\u001b[43m,\u001b[49m\u001b[43m \u001b[49m\u001b[38;5;241;43m0\u001b[39;49m\u001b[43m,\u001b[49m\u001b[43m \u001b[49m\u001b[38;5;124;43m'\u001b[39;49m\u001b[38;5;124;43m,\u001b[39;49m\u001b[38;5;124;43m'\u001b[39;49m\u001b[43m,\u001b[49m\u001b[43m \u001b[49m\u001b[38;5;28;43;01mFalse\u001b[39;49;00m\u001b[43m)\u001b[49m\n\u001b[1;32m      7\u001b[0m     \u001b[38;5;28;01mif\u001b[39;00m (isFileOk \u001b[38;5;241m==\u001b[39m \u001b[38;5;28;01mFalse\u001b[39;00m): \n\u001b[1;32m      8\u001b[0m         \u001b[38;5;28mprint\u001b[39m (\u001b[38;5;124m\"\u001b[39m\u001b[38;5;124mIncorrect format\u001b[39m\u001b[38;5;124m\"\u001b[39m)\n",
            "File \u001b[0;32m/drive/chapter-4/PSP_readDataFile.py:21\u001b[0m, in \u001b[0;36mreadDataFile\u001b[0;34m(file, nrHeaderFields, delimiter, isPrintScreen)\u001b[0m\n\u001b[1;32m     20\u001b[0m \u001b[38;5;28;01mdef\u001b[39;00m \u001b[38;5;21mreadDataFile\u001b[39m(file, nrHeaderFields, delimiter, isPrintScreen):\n\u001b[0;32m---> 21\u001b[0m     nrRows, nrCols, isFileOk \u001b[38;5;241m=\u001b[39m \u001b[43mscanDataFile\u001b[49m\u001b[43m(\u001b[49m\u001b[43mfile\u001b[49m\u001b[43m,\u001b[49m\u001b[43m \u001b[49m\u001b[43mdelimiter\u001b[49m\u001b[43m)\u001b[49m\n\u001b[1;32m     22\u001b[0m     \u001b[38;5;28;01mif\u001b[39;00m (isFileOk \u001b[38;5;241m==\u001b[39m \u001b[38;5;28;01mFalse\u001b[39;00m): \u001b[38;5;28;01mreturn\u001b[39;00m (nrRows, \u001b[38;5;28;01mFalse\u001b[39;00m)\n\u001b[1;32m     24\u001b[0m     \u001b[38;5;28;01mif\u001b[39;00m (nrRows \u001b[38;5;241m==\u001b[39m \u001b[38;5;241m1\u001b[39m):\n",
            "File \u001b[0;32m/drive/chapter-4/PSP_readDataFile.py:7\u001b[0m, in \u001b[0;36mscanDataFile\u001b[0;34m(file, delimiter)\u001b[0m\n\u001b[1;32m      6\u001b[0m \u001b[38;5;28;01mdef\u001b[39;00m \u001b[38;5;21mscanDataFile\u001b[39m(file, delimiter):\n\u001b[0;32m----> 7\u001b[0m     reader \u001b[38;5;241m=\u001b[39m csv\u001b[38;5;241m.\u001b[39mreader(\u001b[38;5;28;43mopen\u001b[39;49m\u001b[43m(\u001b[49m\u001b[43mfile\u001b[49m\u001b[43m,\u001b[49m\u001b[43m \u001b[49m\u001b[38;5;124;43m\"\u001b[39;49m\u001b[38;5;124;43mrt\u001b[39;49m\u001b[38;5;124;43m\"\u001b[39;49m\u001b[43m)\u001b[49m, delimiter\u001b[38;5;241m=\u001b[39mdelimiter)\n\u001b[1;32m      8\u001b[0m     nrRows \u001b[38;5;241m=\u001b[39m \u001b[38;5;241m0\u001b[39m\n\u001b[1;32m      9\u001b[0m     \u001b[38;5;28;01mfor\u001b[39;00m row \u001b[38;5;129;01min\u001b[39;00m reader:\n",
            "\u001b[0;31mFileNotFoundError\u001b[0m: [Errno 44] No such file or directory: 'soilTemperature.txt'"
          ],
          "output_type": "error"
        }
      ],
      "execution_count": 2
    },
    {
      "cell_type": "code",
      "source": "##Chapter_4.4\n\n",
      "metadata": {
        "trusted": true
      },
      "outputs": [],
      "execution_count": 4
    },
    {
      "cell_type": "code",
      "source": "",
      "metadata": {
        "trusted": true
      },
      "outputs": [],
      "execution_count": null
    }
  ]
}