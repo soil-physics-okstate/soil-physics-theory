{
  "metadata": {
    "kernelspec": {
      "name": "python",
      "display_name": "Python (Pyodide)",
      "language": "python"
    },
    "language_info": {
      "codemirror_mode": {
        "name": "python",
        "version": 3
      },
      "file_extension": ".py",
      "mimetype": "text/x-python",
      "name": "python",
      "nbconvert_exporter": "python",
      "pygments_lexer": "ipython3",
      "version": "3.8"
    }
  },
  "nbformat_minor": 4,
  "nbformat": 4,
  "cells": [
    {
      "cell_type": "markdown",
      "source": "#### dcd_ch4_hw",
      "metadata": {}
    },
    {
      "cell_type": "markdown",
      "source": "# Homework for Chapter 4\n",
      "metadata": {}
    },
    {
      "cell_type": "code",
      "source": "#from math import exp\nimport matplotlib.pyplot as plt\nimport numpy as np\nfrom PSP_heat_Cole import *\nfrom PSP_thermalCond import *\nfrom PSP_soil import *\nfrom math import *\nfrom PSP_heatSoil import*\nfrom __future__ import division\nfrom PSP_readDataFile import *\nfrom PSP_grid import *\nfrom PSP_ThomasAlgorithm import *",
      "metadata": {
        "trusted": true
      },
      "outputs": [],
      "execution_count": null
    },
    {
      "cell_type": "markdown",
      "source": "## Problem 1",
      "metadata": {}
    },
    {
      "cell_type": "code",
      "source": "bulkDensity=1300\nwaterContent=range(10,50,5)\nclay=.4\ntemperature = range(-20,100,5)\nypoints = []\ntheta_points = []\nfor y in waterContent:\n    ypoints.append(y)\n    xpoints =[]\n    K_therm = []\n    for x in temperature:\n        K= thermalConductivity(bulkDensity, y/100 , clay, x)\n        xpoints.append(x)\n        K_therm.append(K)\n    plt.plot(xpoints,K_therm,label = str(y))\nplt.xlabel('Temperature (C)')\nplt.ylabel('Thermal Conductivity (W/(m C)')\nplt.legend((ypoints))",
      "metadata": {
        "trusted": true
      },
      "outputs": [],
      "execution_count": null
    },
    {
      "cell_type": "markdown",
      "source": "**At what temp is the K of wet soil independent of water content? Why?**\n\nThrough the investigation I conducted it would appear that for a wet soil that was 40% clay with a bulk density of $1.3 g cm^{-3}$ that the themal conductivity (K) becomes independent of water content around 70 &deg;C as that is where the differnt plots of K by water content begin to merge or at the very least cross. I believe this is caused by the laws used in the justification of the 1994 Campbell model. This model is based on the idea that the thermal conductivity of the soil is a weighted average of its constiiuent parts. So when the soil gets to roughly 70 &deg;C the conductivity of the soil gas, which is temperature dependent, becomes equivelent to or greater than the thermal conductivity of the soil water.",
      "metadata": {}
    },
    {
      "cell_type": "markdown",
      "source": "## Problem 2",
      "metadata": {}
    },
    {
      "cell_type": "code",
      "source": "theta=range(10,50,5)\nbulk=range(1000,1500,50)\nC_h = []\nfor x in bulk:\n    for y in theta:\n        C = heatCapacity(x,y/100)\n        C_h.append(C)\nmax_C = max(C_h)/(10**6)\nmin_C = min(C_h)/(10**6)\nprint('maximum', max_C)\nprint('minimum', min_C)",
      "metadata": {
        "trusted": true
      },
      "outputs": [],
      "execution_count": null
    },
    {
      "cell_type": "markdown",
      "source": "**What is ths possible range of the specific heat in soil** (had 2 and 4 done but it deleted me back to this checkpiont so thats fun haha)\n\nSince themal diffusivity is considered the conductivity over the specific heat the numerical range for specific heat could be any positive value. However the realistic answer would be that soils will only exhibit a volumetric heat capacity rougly between air ($0.00013 MJ m^{-3} K^{-1}$ ) and Water ($4.18 MJ m^{-3} K^{-1}$) with an average value close to that of mineral soils ($2.31 MJ m^{-3} K^{-1}$). We can simulate this further though with the help of the computer program above and find that a lower bound of $1.3 MJ m^{-3} K^{-1}$ and upper bound of $3.2 MJ m^{-3} K^{-1}$ are reasonable estimations of the volumetric heat capacitys for soils. \n\n$$ 1.3 MJ m^{-3} K^{-1} < C_h < 3.2 MJ m^{-3} K^{-1} $$\n\nnote: tried to call the actuall value using this syntax but I believe it does not support putting numbers in the text via this method \n\n$$ {{ max_C[0] }}$$",
      "metadata": {}
    },
    {
      "cell_type": "markdown",
      "source": "# Problem 3 \n**predict temp as a function of time and depth**\n",
      "metadata": {}
    },
    {
      "cell_type": "code",
      "source": "#print (FIN_DIFF, 'Finite Difference')\n#print (CELL_CENT_FIN_VOL, 'Cell-Centered Finite Volume')\n\n\nsolver = 1 #int(input(\"Select solver: \"))         ############################\nthetaIni = 0.40# \"water content (m^3/m^3): \"      #############################\nmeanT = 30 #\"mean temperature [C]: \"              ###############################\nampT = 45 #\"amplitude of change in temperature [C]: \" #########################\n\n\nomega = 2.0 * np.pi/(24 * 3600.0)\nairT0 = meanT\ntimeShift = 8                       \n\nif (solver == FIN_DIFF):\n    factor = 1 #\"weighting factor for time discretization:\" \" (0: explicit, 1: implicit Euler) = \" \n\nz = initialize(airT0, thetaIni, solver)\nsimulationLenght = 70# \"nr of simulation hours: \"   #############################################\n                \nendTime = simulationLenght * 3600.0         \ntimeStepMax = 3600.0                        \ndt = timeStepMax / 8.0                      \ntime = 0.0                                  \nsumHeatFlux = 0\ntotalIterationNr = 0\n\nf, plot = plt.subplots(3, figsize=(8,8), dpi=80)\nplt.subplots_adjust(hspace = 0.3)\nplot[1].set_xlabel(\"Time [h]\",fontsize=14,labelpad=2)  \nplot[1].set_ylabel(\"Temperature [C]\",fontsize=14,labelpad=4)\nplot[2].set_xlabel(\"Time [h]\",fontsize=14,labelpad=2)\nplot[2].set_ylabel(\"Heat flux [W m$^{-2}$]\",fontsize=14,labelpad=4)\nplot[1].set_xlim(timeShift, simulationLenght+timeShift)\nplot[1].set_ylim(meanT-ampT, meanT+ampT)\nplot[2].set_xlim(timeShift, simulationLenght+timeShift)\n\n#Define output file\noutFile= open(\"output_cole.csv\",\"a\")\n#Write header with depth\noutFile.write(\"time [hr], 0.0 [m], 0.1 [m], 0.3 [m]\\n\")    \n\nwhile (time < endTime):\n    dt = min(dt, endTime - time)\n    airT = airT0 + ampT * np.sin((time+dt)*omega)\n    if (solver == FIN_DIFF):\n        success, nrIterations, heatFlux = (\n            finiteDifference(airT, meanT, dt, factor))            \n    elif (solver == CELL_CENT_FIN_VOL):\n        success, nrIterations, heatFlux = (\n            cellCentFiniteVol(airT, meanT, dt))\n    totalIterationNr += nrIterations\n    \n    \n    if success:\n        #Convergence achieved\n        for i in range(n+1):\n            oldT[i] = T[i]\n        sumHeatFlux += heatFlux * dt \n        time += dt\n        \n        t = time/3600. + timeShift\n        \n        plot[0].clear()\n        plot[0].set_xlabel(\"Temperature [C]\",fontsize=14,labelpad=2)\n        plot[0].set_ylabel(\"Depth [m]\",fontsize=14,labelpad=4) \n        plot[0].set_xlim(meanT-ampT, meanT+ampT) \n        plot[0].plot(T[1:len(T)], -z[1:len(T)], 'k')\n        plot[0].plot(T[1:len(T)], -z[1:len(T)], 'ko')\n        plot[1].plot(t, T[getLayerIndex(z, 0.0)], 'ko')    \n        plot[1].plot(t, T[getLayerIndex(z, 0.1)], 'ks')     \n        plot[1].plot(t, T[getLayerIndex(z, 0.3)], 'k^')    \n        plot[2].plot(t, heatFlux, 'ko')\n        plt.pause(0.0001)\n        #increment time step when system is converging\n        if (float(nrIterations/maxNrIterations) < 0.25): \n                dt = min(dt*2, timeStepMax)\n        #print(heat.T[getLayerIndex(heat.z, 0.15)])\n        #save to file, the number after z is the selected depth        \n        outFile.write(\"%.3f,%.3f,%.3f,%.3f,\\n\" %(t,T[getLayerIndex(z, 0.0)],T[getLayerIndex(z, 0.1)],T[getLayerIndex(z, 0.3)]))\n\n\n    else:\n        #No convergence\n        dt = max(dt / 2, 1)\n        for i in range(n+1): T[i] = oldT[i]\n        print (\"dt =\", dt, \"No convergence\")\n\noutFile.close()\nprint(\"nr of iterations per hour:\", totalIterationNr / simulationLenght)\n#plt.ioff()\nplt.show()",
      "metadata": {
        "trusted": true
      },
      "outputs": [],
      "execution_count": null
    },
    {
      "cell_type": "markdown",
      "source": "**how would residue effect soil temp**",
      "metadata": {}
    },
    {
      "cell_type": "markdown",
      "source": "**at what depth is the sine wave 180 degrees out of phase with the surface** (trough peak overlap)\n",
      "metadata": {}
    },
    {
      "cell_type": "code",
      "source": "",
      "metadata": {
        "trusted": true
      },
      "outputs": [],
      "execution_count": null
    },
    {
      "cell_type": "markdown",
      "source": "# Problem 4 \n**make PSP_heat change water content with depth**",
      "metadata": {}
    },
    {
      "cell_type": "code",
      "source": "",
      "metadata": {
        "trusted": true
      },
      "outputs": [],
      "execution_count": null
    },
    {
      "cell_type": "markdown",
      "source": "# Problem 5",
      "metadata": {}
    },
    {
      "cell_type": "code",
      "source": "bulkDensity = 1300 # \"bulk density [kg/m^3]: \"\nclay = 0.5 # \"clay [0 - 1]: \"\n\nA, isFileOk = readDataFile(\"soilTemperatures_hours.csv\", 1, ',', False)\n\nsoilTemperature = [A[0][1],A[0][2],A[0][3],A[0][4]] #10 25 70 135 cm\nprint (\"Temperatures = \", soilTemperature)\nnrTemperatures = len(soilTemperature)\n\nparticleDensity = 2650\nporosity = 1 - (bulkDensity / particleDensity) \n\nstep = 0.02  \nnrValues = int(porosity / step) + 1\nwaterContent = np.zeros(nrValues)\nthermalConductivity = np.zeros(nrValues)  \nfor i in range(nrValues):\n    waterContent[i] = step*i\n\n\nfig = plt.figure(figsize=(10,8))\nplt.xlabel('Water Content [m$^{3}$ m$^{-3}$]',fontsize=20,labelpad=8)\nplt.ylabel('Thermal Conductivity [W m$^{-1}$C$^{-1}$]',fontsize=20,labelpad=8)\nplt.tick_params(axis='both', which='major', labelsize=20,pad=8)\nplt.tick_params(axis='both', which='minor', labelsize=20,pad=8)\n#plt.xlim(0, 0.7)\nfor t in range(nrTemperatures):\n    for i in range(nrValues):\n        thermalConductivity[i] = thermalConductivity(bulkDensity, \n                                waterContent[i], clay, soilTemperature[t])\n    if (t == 0): plt.plot(waterContent, thermalConductivity,'k')  \n    if (t == 1): plt.plot(waterContent, thermalConductivity,'--k')   \n    if (t == 2): plt.plot(waterContent, thermalConductivity,'-.k') \n    if (t == 3): plt.plot(waterContent, thermalConductivity,':k')\nplt.show() ",
      "metadata": {
        "trusted": true
      },
      "outputs": [],
      "execution_count": null
    },
    {
      "cell_type": "code",
      "source": "print (A)",
      "metadata": {
        "trusted": true
      },
      "outputs": [],
      "execution_count": null
    },
    {
      "cell_type": "code",
      "source": "",
      "metadata": {
        "trusted": true
      },
      "outputs": [],
      "execution_count": null
    },
    {
      "cell_type": "markdown",
      "source": "# Problem 6\n\n**modify clay and bulk of soil.py and investigate the effect of these variables on soil temp at 3 textures and 2 densiies**",
      "metadata": {}
    },
    {
      "cell_type": "markdown",
      "source": "# Problem 7\n**modify PSP Heat investigate the effects of the 3 types of solutions**\n",
      "metadata": {}
    },
    {
      "cell_type": "code",
      "source": "",
      "metadata": {
        "trusted": true
      },
      "outputs": [],
      "execution_count": null
    }
  ]
}